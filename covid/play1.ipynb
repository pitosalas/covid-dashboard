{
 "cells": [
  {
   "cell_type": "code",
   "execution_count": 1,
   "metadata": {},
   "outputs": [],
   "source": [
    "import data\n",
    "import pandas as pd\n",
    "import seaborn as sns\n",
    "import matplotlib.pyplot as plt"
   ]
  },
  {
   "cell_type": "code",
   "execution_count": 2,
   "metadata": {},
   "outputs": [
    {
     "output_type": "stream",
     "name": "stdout",
     "text": "Process nyt: positive,negative,deaths\nFound records:  122\nProcess cdc: positive,negative,deaths\nFound records:  0\nProcess covid: positive,negative,deaths\nFound records:  248\n"
    }
   ],
   "source": [
    "var = [\"positive\", \"negative\", \"deaths\"]\n",
    "star = \"2020-04-01\"\n",
    "stat = [\"MA\", \"NH\"]\n",
    "xx = data.read_data(star, stat, var)"
   ]
  },
  {
   "cell_type": "code",
   "execution_count": 3,
   "metadata": {},
   "outputs": [
    {
     "output_type": "execute_result",
     "data": {
      "text/plain": "          date state  variable    value\n244 2020-04-02    MA    deaths    154.0\n245 2020-04-02    NH    deaths      5.0\n246 2020-04-03    MA    deaths    192.0\n247 2020-04-03    NH    deaths      7.0\n248 2020-04-04    MA    deaths    216.0\n..         ...   ...       ...      ...\n243 2020-04-04    NH  positive    540.0\n244 2020-04-03    MA  positive  10303.0\n245 2020-04-03    NH  positive    479.0\n246 2020-04-02    MA  positive   8867.0\n247 2020-04-02    NH  positive    415.0\n\n[370 rows x 4 columns]",
      "text/html": "<div>\n<style scoped>\n    .dataframe tbody tr th:only-of-type {\n        vertical-align: middle;\n    }\n\n    .dataframe tbody tr th {\n        vertical-align: top;\n    }\n\n    .dataframe thead th {\n        text-align: right;\n    }\n</style>\n<table border=\"1\" class=\"dataframe\">\n  <thead>\n    <tr style=\"text-align: right;\">\n      <th></th>\n      <th>date</th>\n      <th>state</th>\n      <th>variable</th>\n      <th>value</th>\n    </tr>\n  </thead>\n  <tbody>\n    <tr>\n      <th>244</th>\n      <td>2020-04-02</td>\n      <td>MA</td>\n      <td>deaths</td>\n      <td>154.0</td>\n    </tr>\n    <tr>\n      <th>245</th>\n      <td>2020-04-02</td>\n      <td>NH</td>\n      <td>deaths</td>\n      <td>5.0</td>\n    </tr>\n    <tr>\n      <th>246</th>\n      <td>2020-04-03</td>\n      <td>MA</td>\n      <td>deaths</td>\n      <td>192.0</td>\n    </tr>\n    <tr>\n      <th>247</th>\n      <td>2020-04-03</td>\n      <td>NH</td>\n      <td>deaths</td>\n      <td>7.0</td>\n    </tr>\n    <tr>\n      <th>248</th>\n      <td>2020-04-04</td>\n      <td>MA</td>\n      <td>deaths</td>\n      <td>216.0</td>\n    </tr>\n    <tr>\n      <th>...</th>\n      <td>...</td>\n      <td>...</td>\n      <td>...</td>\n      <td>...</td>\n    </tr>\n    <tr>\n      <th>243</th>\n      <td>2020-04-04</td>\n      <td>NH</td>\n      <td>positive</td>\n      <td>540.0</td>\n    </tr>\n    <tr>\n      <th>244</th>\n      <td>2020-04-03</td>\n      <td>MA</td>\n      <td>positive</td>\n      <td>10303.0</td>\n    </tr>\n    <tr>\n      <th>245</th>\n      <td>2020-04-03</td>\n      <td>NH</td>\n      <td>positive</td>\n      <td>479.0</td>\n    </tr>\n    <tr>\n      <th>246</th>\n      <td>2020-04-02</td>\n      <td>MA</td>\n      <td>positive</td>\n      <td>8867.0</td>\n    </tr>\n    <tr>\n      <th>247</th>\n      <td>2020-04-02</td>\n      <td>NH</td>\n      <td>positive</td>\n      <td>415.0</td>\n    </tr>\n  </tbody>\n</table>\n<p>370 rows × 4 columns</p>\n</div>"
     },
     "metadata": {},
     "execution_count": 3
    }
   ],
   "source": [
    "xx"
   ]
  },
  {
   "cell_type": "code",
   "execution_count": null,
   "metadata": {},
   "outputs": [],
   "source": []
  }
 ],
 "metadata": {
  "kernelspec": {
   "display_name": "Python 3",
   "language": "python",
   "name": "python3"
  },
  "language_info": {
   "codemirror_mode": {
    "name": "ipython",
    "version": 3
   },
   "file_extension": ".py",
   "mimetype": "text/x-python",
   "name": "python",
   "nbconvert_exporter": "python",
   "pygments_lexer": "ipython3",
   "version": "3.7.6-final"
  }
 },
 "nbformat": 4,
 "nbformat_minor": 2
}